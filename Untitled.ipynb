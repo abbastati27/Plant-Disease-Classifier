{
 "cells": [
  {
   "cell_type": "code",
   "execution_count": 1,
   "id": "d745038a-9696-4df0-af6e-6f3fcd8664fc",
   "metadata": {},
   "outputs": [
    {
     "name": "stdout",
     "output_type": "stream",
     "text": [
      "Error reading model file: Unable to synchronously open file (file signature not found)\n"
     ]
    }
   ],
   "source": [
    "import tensorflow as tf\n",
    "\n",
    "try:\n",
    "    # Attempt to load the model\n",
    "    model = tf.keras.models.load_model(\"plant_disease_model.keras\")\n",
    "    print(\"Model loaded successfully!\")\n",
    "    # Print model summary to confirm structure\n",
    "    model.summary()\n",
    "except Exception as e:\n",
    "    print(\"Error reading model file:\", e)\n"
   ]
  },
  {
   "cell_type": "code",
   "execution_count": null,
   "id": "223ca296-a468-44d8-80a9-41b0aa30a96a",
   "metadata": {},
   "outputs": [],
   "source": []
  }
 ],
 "metadata": {
  "kernelspec": {
   "display_name": "Python 3 (ipykernel)",
   "language": "python",
   "name": "python3"
  },
  "language_info": {
   "codemirror_mode": {
    "name": "ipython",
    "version": 3
   },
   "file_extension": ".py",
   "mimetype": "text/x-python",
   "name": "python",
   "nbconvert_exporter": "python",
   "pygments_lexer": "ipython3",
   "version": "3.10.0"
  }
 },
 "nbformat": 4,
 "nbformat_minor": 5
}
